{
  "nbformat": 4,
  "nbformat_minor": 0,
  "metadata": {
    "colab": {
      "provenance": [],
      "authorship_tag": "ABX9TyOSwmkSpm7Sy1lRvWXnx5hx",
      "include_colab_link": true
    },
    "kernelspec": {
      "name": "python3",
      "display_name": "Python 3"
    },
    "language_info": {
      "name": "python"
    }
  },
  "cells": [
    {
      "cell_type": "markdown",
      "metadata": {
        "id": "view-in-github",
        "colab_type": "text"
      },
      "source": [
        "<a href=\"https://colab.research.google.com/github/Benarji10/1BM21AI030-OOPS/blob/main/Untitled2.ipynb\" target=\"_parent\"><img src=\"https://colab.research.google.com/assets/colab-badge.svg\" alt=\"Open In Colab\"/></a>"
      ]
    },
    {
      "cell_type": "code",
      "execution_count": 1,
      "metadata": {
        "colab": {
          "base_uri": "https://localhost:8080/"
        },
        "id": "1Uaf8SNF0Z_U",
        "outputId": "e6550505-b765-4c4c-814c-e003257f718d"
      },
      "outputs": [
        {
          "output_type": "stream",
          "name": "stdout",
          "text": [
            "Enter the number of elements: 3\n",
            "Enter element2\n",
            "Enter element3\n",
            "Enter element4\n",
            "The largest number is: 4\n"
          ]
        }
      ],
      "source": [
        "def find_largest(numbers):\n",
        "    if not numbers:\n",
        "        return \"List is empty\"\n",
        "\n",
        "    largest = numbers[0]\n",
        "    for i in range(1, len(numbers)):\n",
        "        if numbers[i] > largest:\n",
        "            largest = numbers[i]\n",
        "    return largest\n",
        "\n",
        "def main():\n",
        "\n",
        "    a = []\n",
        "    n = int(input(\"Enter the number of elements: \"))\n",
        "    for i in range(n):\n",
        "        element = int(input(\"Enter element\"))\n",
        "        a.append(element)\n",
        "\n",
        "    result = find_largest(a)\n",
        "    print(\"The largest number is:\", result)\n",
        "\n",
        "if __name__ == \"__main__\":\n",
        "    main()"
      ]
    },
    {
      "cell_type": "code",
      "source": [
        "import math\n",
        "\n",
        "def main():\n",
        "    n = int(input(\"Enter length of a side: \"))\n",
        "    area = find_area(n)\n",
        "    print(\"Area of a hexagon is\", area)\n",
        "\n",
        "def find_area(n):\n",
        "    area = (3/2) * math.sqrt(3) * math.pow(n, 2)\n",
        "    return area\n",
        "\n",
        "if __name__ == \"__main__\":\n",
        "    main()\n"
      ],
      "metadata": {
        "colab": {
          "base_uri": "https://localhost:8080/"
        },
        "id": "KyEWzg0k0hMo",
        "outputId": "4bb7cd73-5070-41aa-a660-5c0ce607cf02"
      },
      "execution_count": 2,
      "outputs": [
        {
          "output_type": "stream",
          "name": "stdout",
          "text": [
            "Enter length of a side: 6\n",
            "Area of a hexagon is 93.53074360871938\n"
          ]
        }
      ]
    },
    {
      "cell_type": "code",
      "source": [],
      "metadata": {
        "id": "YwZ4FiyE0uYn"
      },
      "execution_count": null,
      "outputs": []
    }
  ]
}