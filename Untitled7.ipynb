{
  "nbformat": 4,
  "nbformat_minor": 0,
  "metadata": {
    "colab": {
      "provenance": [],
      "authorship_tag": "ABX9TyOCaMCYLNEHc1pLI1fSg0/q",
      "include_colab_link": true
    },
    "kernelspec": {
      "name": "python3",
      "display_name": "Python 3"
    },
    "language_info": {
      "name": "python"
    }
  },
  "cells": [
    {
      "cell_type": "markdown",
      "metadata": {
        "id": "view-in-github",
        "colab_type": "text"
      },
      "source": [
        "<a href=\"https://colab.research.google.com/github/Benarji10/1BM21AI030-OOPS/blob/main/Untitled7.ipynb\" target=\"_parent\"><img src=\"https://colab.research.google.com/assets/colab-badge.svg\" alt=\"Open In Colab\"/></a>"
      ]
    },
    {
      "cell_type": "code",
      "execution_count": 7,
      "metadata": {
        "colab": {
          "base_uri": "https://localhost:8080/"
        },
        "id": "yrLTQMLL_492",
        "outputId": "f3abf1fb-2b7b-456e-9617-28c7e44c941e"
      },
      "outputs": [
        {
          "output_type": "stream",
          "name": "stdout",
          "text": [
            "True\n",
            "True\n",
            "True\n",
            "True\n"
          ]
        }
      ],
      "source": [
        "class Student:\n",
        "    pass\n",
        "\n",
        "class Marks:\n",
        "    pass\n",
        "\n",
        "student_instance = Student()\n",
        "marks_instance = Marks()\n",
        "\n",
        "print(isinstance(student_instance, Student))\n",
        "print(isinstance(marks_instance, Marks))\n",
        "\n",
        "print(issubclass(Student, object))\n",
        "print(issubclass(Marks, object))\n"
      ]
    },
    {
      "cell_type": "code",
      "source": [
        "class COMPLEX:\n",
        "    real_part = 0\n",
        "    img_part = 0\n",
        "\n",
        "    def __init__(self, real, img):\n",
        "        self.real_part = real\n",
        "        self.img_part = img\n",
        "\n",
        "C1 = COMPLEX(5, 4)\n",
        "C2 = COMPLEX(5, 5)\n",
        "C3 = COMPLEX(0, 0)\n",
        "\n",
        "C3.real_part = C1.real_part + C2.real_part\n",
        "C3.img_part = C1.img_part + C2.img_part\n",
        "\n",
        "print(f\"Result: {C3.real_part} + {C3.img_part}i\")"
      ],
      "metadata": {
        "colab": {
          "base_uri": "https://localhost:8080/"
        },
        "id": "7NTvkQNBIib6",
        "outputId": "3b0625cc-7cb9-441d-9d25-4ab7d6782443"
      },
      "execution_count": 17,
      "outputs": [
        {
          "output_type": "stream",
          "name": "stdout",
          "text": [
            "Result: 5 + 9i\n"
          ]
        }
      ]
    },
    {
      "cell_type": "code",
      "source": [
        "class Song:\n",
        "    def __init__(self, lyrics):\n",
        "        self.lyrics = lyrics\n",
        "\n",
        "    def sing_me_a_song(self):\n",
        "        for line in self.lyrics:\n",
        "            print(line)\n",
        "\n",
        "happy_bday = Song([\"May god bless you, \",\n",
        "                   \"Have sunshine on you,\",\n",
        "                   \"Happy Birthday to you!\"])\n",
        "\n",
        "happy_bday.sing_me_a_song()"
      ],
      "metadata": {
        "colab": {
          "base_uri": "https://localhost:8080/"
        },
        "id": "_zsHnk-vInhi",
        "outputId": "4f3a833a-e836-479a-cf5d-03fafe1eb8c2"
      },
      "execution_count": 18,
      "outputs": [
        {
          "output_type": "stream",
          "name": "stdout",
          "text": [
            "May god bless you, \n",
            "Have sunshine on you,\n",
            "Happy Birthday to you!\n"
          ]
        }
      ]
    },
    {
      "cell_type": "code",
      "source": [
        "class Dog:\n",
        "    def __init__(self, name, size, breed='Unknown', dob='Unknown'):\n",
        "        self.name = name\n",
        "        self.size = size\n",
        "        self.breed = breed\n",
        "        self.dob = dob\n",
        "\n",
        "    def bark(self):\n",
        "        print(\"Woof!\")\n",
        "\n",
        "    def get_name(self):\n",
        "        return self.name\n",
        "\n",
        "    def set_name(self, new_name):\n",
        "        if 2 <= len(new_name) <= 30 and new_name.isalpha():\n",
        "            self.name = new_name.title()\n",
        "        else:\n",
        "            print(\"Invalid name. Please enter an alphabetical name between 2 and 30 characters.\")\n",
        "\n",
        "    def dog_years(self):\n",
        "        return 7 * (2023 - int(self.dob.split('/')[-1]))\n",
        "\n",
        "my_dog = Dog(name='Buddy', size='Medium', breed='Labrador', dob='01/01/2010')\n",
        "\n",
        "my_dog.bark()\n",
        "print(f\"Dog's name: {my_dog.get_name()}\")\n",
        "my_dog.set_name('Max')\n",
        "print(f\"Updated dog's name: {my_dog.get_name()}\")\n",
        "print(f\"Dog's age in dog years: {my_dog.dog_years()} years\")"
      ],
      "metadata": {
        "colab": {
          "base_uri": "https://localhost:8080/"
        },
        "id": "EPJmXPptIr-x",
        "outputId": "e867b6e6-d6ec-4c2b-a5c5-759059c233d1"
      },
      "execution_count": 19,
      "outputs": [
        {
          "output_type": "stream",
          "name": "stdout",
          "text": [
            "Woof!\n",
            "Dog's name: Buddy\n",
            "Updated dog's name: Max\n",
            "Dog's age in dog years: 91 years\n"
          ]
        }
      ]
    },
    {
      "cell_type": "code",
      "source": [
        "class Employee:\n",
        "    def __init__(self, name, salary):\n",
        "        self.name = name\n",
        "        self.__salary = salary\n",
        "\n",
        "    def work(self):\n",
        "        print(f\"{self.name} is working.\")\n",
        "\n",
        "    def show(self):\n",
        "        print(f\"{self.name}'s salary is ${self.__salary}.\")\n",
        "\n",
        "employee1 = Employee(\"John\", 50000)\n",
        "employee1.work()\n",
        "employee1.show()"
      ],
      "metadata": {
        "colab": {
          "base_uri": "https://localhost:8080/"
        },
        "id": "yFSNwisBLZvc",
        "outputId": "b163aaee-3b4c-49b0-d38e-3467980b8c90"
      },
      "execution_count": 20,
      "outputs": [
        {
          "output_type": "stream",
          "name": "stdout",
          "text": [
            "John is working.\n",
            "John's salary is $50000.\n"
          ]
        }
      ]
    },
    {
      "cell_type": "code",
      "source": [
        "class CreditCard:\n",
        "    def __init__(self, limit):\n",
        "        self.__limit = limit\n",
        "        self.__balance = 0\n",
        "\n",
        "    def get_balance(self):\n",
        "        return self.__balance\n",
        "\n",
        "    def withdraw(self, amount):\n",
        "        if amount <= self.__balance:\n",
        "            self.__balance -= amount\n",
        "            print(f\"Withdrawal successful. New balance: {self.__balance}\")\n",
        "        else:\n",
        "            print(\"Insufficient funds. Withdrawal unsuccessful.\")\n",
        "\n",
        "    def deposit(self, amount):\n",
        "        if amount > 0:\n",
        "            self.__balance += amount\n",
        "            print(f\"Deposit successful. New balance: {self.__balance}\")\n",
        "        else:\n",
        "            print(\"Invalid deposit amount. Please enter a positive value.\")\n",
        "\n",
        "credit_card = CreditCard(limit=1000)\n",
        "\n",
        "print(f\"Current balance: {credit_card.get_balance()}\")\n",
        "\n",
        "credit_card.deposit(500)\n",
        "credit_card.withdraw(200)\n"
      ],
      "metadata": {
        "colab": {
          "base_uri": "https://localhost:8080/"
        },
        "id": "2IncWQcOLdzL",
        "outputId": "f617abd8-cd74-4e53-cf98-df087a9659d0"
      },
      "execution_count": 22,
      "outputs": [
        {
          "output_type": "stream",
          "name": "stdout",
          "text": [
            "Current balance: 0\n",
            "Deposit successful. New balance: 500\n",
            "Withdrawal successful. New balance: 300\n"
          ]
        }
      ]
    }
  ]
}